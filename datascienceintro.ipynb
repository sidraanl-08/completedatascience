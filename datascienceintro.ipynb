{
 "cells": [
  {
   "cell_type": "markdown",
   "id": "c651ebee-90a5-4f45-809b-1876d6218d0a",
   "metadata": {},
   "source": [
    "# How Do We Define Data Science?\n",
    "\n",
    "### Data science is a process of collecting, cleaning, analyzing, and interpreting data"
   ]
  },
  {
   "cell_type": "markdown",
   "id": "535885b3-45f0-4bc1-889f-92e6e2c3af81",
   "metadata": {},
   "source": [
    "## Why Do We Need Data Science?\n",
    "\n",
    "- We can make better decisions\n",
    "- We can predict future outcomes\n",
    "- We can automate processes\n",
    "- We can personalize experiences"
   ]
  },
  {
   "cell_type": "markdown",
   "id": "3b62c91c-04d5-4e70-8d38-41322ac175c4",
   "metadata": {},
   "source": [
    "# Steps In Data Science Process\n",
    "\n",
    "- Problem Definition: First of all, we must define problem at hand\n",
    "\n",
    "- Data Collection: We collect data from different sources like databases, websites\n",
    "\n",
    "- Data Cleaning/ Data Processing: At this step, we clean our collected data, fix errors, duplicates, inconsistencies, missing values since all of this takes alot of time, therefore, it is the most time consuming step in data science process\n",
    "\n",
    "- Data Exploration/EDA(Exploratory Data Analysis): Here we understand our data and detect anomaliesusing data visualization\n",
    "\n",
    "- Model Building: After this, we build models using machine learning to make future predictions\n",
    "\n",
    "- Model Evaluation: It means we are measuring our model's functioning and accuracy\n",
    "\n",
    "- Model Deployment: Here, we are deploying our model into production lines\n",
    "\n",
    "- Data Interpretation & Communication: We present our findings clearly to help decision making\n",
    "\n",
    "- Maintainance & Iteration: At the end, we must keep updating our model and maintain its accuracy\n",
    "\n",
    "\n",
    "### Da"
   ]
  },
  {
   "cell_type": "code",
   "execution_count": null,
   "id": "24755e5f-515f-4c1a-8614-4bb575902429",
   "metadata": {},
   "outputs": [],
   "source": []
  }
 ],
 "metadata": {
  "kernelspec": {
   "display_name": "Python [conda env:base] *",
   "language": "python",
   "name": "conda-base-py"
  },
  "language_info": {
   "codemirror_mode": {
    "name": "ipython",
    "version": 3
   },
   "file_extension": ".py",
   "mimetype": "text/x-python",
   "name": "python",
   "nbconvert_exporter": "python",
   "pygments_lexer": "ipython3",
   "version": "3.13.5"
  }
 },
 "nbformat": 4,
 "nbformat_minor": 5
}
