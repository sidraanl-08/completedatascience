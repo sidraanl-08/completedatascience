{
 "cells": [
  {
   "cell_type": "markdown",
   "id": "c651ebee-90a5-4f45-809b-1876d6218d0a",
   "metadata": {},
   "source": [
    "# How Do We Define Data Science?\n",
    "\n",
    "### Data science is a process of collecting, cleaning, analyzing, and interpreting data"
   ]
  },
  {
   "cell_type": "markdown",
   "id": "535885b3-45f0-4bc1-889f-92e6e2c3af81",
   "metadata": {},
   "source": [
    "## Why Do We Need Data Science?\n",
    "\n",
    "- We can make better decisions\n",
    "- We can predict future outcomes\n",
    "- We can automate processes\n",
    "- We can personalize experiences"
   ]
  }
 ],
 "metadata": {
  "kernelspec": {
   "display_name": "Python [conda env:base] *",
   "language": "python",
   "name": "conda-base-py"
  },
  "language_info": {
   "codemirror_mode": {
    "name": "ipython",
    "version": 3
   },
   "file_extension": ".py",
   "mimetype": "text/x-python",
   "name": "python",
   "nbconvert_exporter": "python",
   "pygments_lexer": "ipython3",
   "version": "3.13.5"
  }
 },
 "nbformat": 4,
 "nbformat_minor": 5
}
