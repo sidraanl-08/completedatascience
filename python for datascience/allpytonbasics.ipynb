{
 "cells": [
  {
   "cell_type": "markdown",
   "id": "c8c15ae3-a56b-40ed-9705-d70f45e76fdf",
   "metadata": {},
   "source": [
    "# 1. Python Variables, DataTypes, TypeCasting"
   ]
  },
  {
   "cell_type": "code",
   "execution_count": 31,
   "id": "23ce75d7-24a7-4de9-8f92-1abb2ecf74c0",
   "metadata": {},
   "outputs": [
    {
     "name": "stdout",
     "output_type": "stream",
     "text": [
      "<class 'float'>\n",
      "<class 'float'>\n",
      "<class 'str'>\n",
      "4732\n",
      "7\n",
      "python programmer and data scientist\n"
     ]
    },
    {
     "data": {
      "text/plain": [
       "'sidraa'"
      ]
     },
     "execution_count": 31,
     "metadata": {},
     "output_type": "execute_result"
    }
   ],
   "source": [
    "#numbers\n",
    "\n",
    "a = 5\n",
    "b = 10.98\n",
    "\n",
    "print(type(a+b))\n",
    "print(type(b))\n",
    "\n",
    "#strings\n",
    "\n",
    "str1 = \"sidraa\"\n",
    "\n",
    "print(type(str1))\n",
    "type(str1)\n",
    "\n",
    "\n",
    "#type casting\n",
    "\n",
    "d = \"1234\"\n",
    "e = \"3498\"\n",
    "sum = int(d) + int(e)\n",
    "print(sum)\n",
    "\n",
    "#strings and strings functions\n",
    "\n",
    "name = \"sidraaa\"\n",
    "name.upper()\n",
    "\n",
    "name.lower()\n",
    "\n",
    "name.endswith(\"aaa\")\n",
    "\n",
    "name.startswith(\"sid\")\n",
    "\n",
    "name.count(\"a\")\n",
    "\n",
    "name.index(\"d\")\n",
    "\n",
    "print(len(\"sidraaa\"))\n",
    "\n",
    "print(name.replace(\"sidraaa\", \"python programmer and data scientist\"))\n",
    "\n",
    "name[0:3]\n",
    "name[-7:-1]"
   ]
  },
  {
   "cell_type": "markdown",
   "id": "7f01baa8-3691-498a-bb3c-694402777d1d",
   "metadata": {},
   "source": [
    "# 2. Python Operators"
   ]
  },
  {
   "cell_type": "code",
   "execution_count": 78,
   "id": "50622dd2-73f5-4c46-b108-5db5977b8849",
   "metadata": {},
   "outputs": [
    {
     "name": "stdout",
     "output_type": "stream",
     "text": [
      "33.0\n"
     ]
    }
   ],
   "source": [
    "# #arithmetic operators\n",
    "\n",
    "a = 10\n",
    "b = 50\n",
    "\n",
    "a+b\n",
    "a-b\n",
    "a*b\n",
    "a/b\n",
    "a//b\n",
    "a%b\n",
    "a**2\n",
    "\n",
    "# #comparison operators (True, False)\n",
    "\n",
    "a>b\n",
    "b>a\n",
    "a==b\n",
    "a!=b\n",
    "a<=b\n",
    "b>=a\n",
    "\n",
    "#logical operators (True, False)\n",
    "\n",
    "c1 = True\n",
    "c2 = False\n",
    "\n",
    "d1 = True \n",
    "d2 = True\n",
    "\n",
    "d1 and d2\n",
    "d1 or d2\n",
    "\n",
    "c1 and c2\n",
    "c1 or c2\n",
    "not (c1)\n",
    "not(c2)\n",
    "\n",
    "#assignment operators \n",
    "\n",
    "f = 50\n",
    "g = 70\n",
    "\n",
    "f+=40\n",
    "print(f)\n",
    "\n",
    "\n",
    "g-=20\n",
    "print(g)\n",
    "\n",
    "\n",
    "f*=2\n",
    "print(f)\n",
    "\n",
    "g/=10\n",
    "# print(g)\n",
    "\n",
    "g//=10\n",
    "print(g) #floor removes decimal\n",
    "\n",
    "\n",
    "f %=30\n",
    "print(f)\n",
    "\n",
    "f**=2\n",
    "print(f)\n",
    "\n",
    "#operator precedence\n",
    "#python follows PEMDAS order of operations \n",
    "\n",
    "equation = 2*3-8\n",
    "print(equation)\n",
    "\n",
    "equa2 = (45/5+24)\n",
    "print(equa2)"
   ]
  },
  {
   "cell_type": "markdown",
   "id": "ec942a40-0141-439c-ac26-0f6c191e45cc",
   "metadata": {},
   "source": [
    "# f-strings and string formatting "
   ]
  },
  {
   "cell_type": "code",
   "execution_count": 59,
   "id": "fc4c4ccb-0b26-4d9e-9ba5-58f6e39d0b55",
   "metadata": {},
   "outputs": [
    {
     "name": "stdout",
     "output_type": "stream",
     "text": [
      "my name is john baker and im 26 years old.\n",
      "Python    \n",
      "    Python\n",
      "  Python  \n"
     ]
    }
   ],
   "source": [
    "str = \"im sidraaa\"\n",
    "\n",
    "str[0]\n",
    "print(str[0])\n",
    "\n",
    "str[5]\n",
    "print(str[5])\n",
    "\n",
    "str[3]\n",
    "print(str[3])\n",
    "\n",
    "str[4] = \"x\" #it means strings cannot be modified coz strings are immutable \n",
    "print(str[4])\n",
    "\n",
    "#using format() is old method\n",
    "\n",
    "name = \"john baker\"\n",
    "age = 26\n",
    "\n",
    "# print(\"my name is {} and im {} years old.\".format(name, age)) \n",
    "\n",
    "#using fstring is a new method\n",
    "\n",
    "print(f\"my name is {name} and im {age} years old.\")\n",
    "\n",
    "#padding and alignment in fstrings\n",
    "\n",
    "print(f\"{'Python':<10}\")  # Left-align\n",
    "print(f\"{'Python':>10}\")  # Right-align\n",
    "print(f\"{'Python':^10}\")  # Center-align"
   ]
  },
  {
   "cell_type": "markdown",
   "id": "f7b2330e-3f8a-4d6b-8c0a-99bffd1b2a14",
   "metadata": {},
   "source": [
    "# 3. Input In Python"
   ]
  },
  {
   "cell_type": "code",
   "execution_count": 75,
   "id": "4c984c93-7b4c-4eae-8a9c-eb9a48c2203c",
   "metadata": {},
   "outputs": [
    {
     "name": "stdin",
     "output_type": "stream",
     "text": [
      "give number for c 23\n",
      "give number for d 56\n"
     ]
    }
   ],
   "source": [
    "#asking for a number from user \n",
    "\n",
    "# a = input(\"enter value of a\")\n",
    "# b = input(\"enter value of b\")\n",
    "\n",
    "c = int(input(\"give number for c\"))\n",
    "d = int(input(\"give number for d\"))"
   ]
  },
  {
   "cell_type": "code",
   "execution_count": 76,
   "id": "5b63b146-8b20-46e0-89e3-76adb320b58c",
   "metadata": {},
   "outputs": [
    {
     "name": "stdout",
     "output_type": "stream",
     "text": [
      "79\n"
     ]
    }
   ],
   "source": [
    "# print(a,b)\n",
    "\n",
    "# print(a+b) #every input gives strings therefore they will be concatenated\n",
    "\n",
    "print(c+d) #now it has converted string numbs into integers "
   ]
  },
  {
   "cell_type": "markdown",
   "id": "8f22e648-d682-49e0-b64d-691184dc8d39",
   "metadata": {},
   "source": [
    "# Python Conditionals "
   ]
  },
  {
   "cell_type": "code",
   "execution_count": 14,
   "id": "70aea0e4-9eb0-4ba5-a954-27074a2ad68a",
   "metadata": {},
   "outputs": [
    {
     "name": "stdout",
     "output_type": "stream",
     "text": [
      "numberX is greater than 40\n"
     ]
    }
   ],
   "source": [
    "# numb1 = 5\n",
    "# numb2 = 10\n",
    "\n",
    "# if numb1>=numb2:\n",
    "#     print(\"yes, 5 is smaller than 1o\")\n",
    "\n",
    "# else:\n",
    "#     print(\"no 10 is greater than 5\")\n",
    "\n",
    "\n",
    "#if-elif-else ladder\n",
    "\n",
    "numb1 = 50\n",
    "\n",
    "\n",
    "if numb1>50:\n",
    "    print(\"yes, greater than 50\")\n",
    "\n",
    "elif numb1>40:\n",
    "    print(\"numberX is greater than 40\")\n",
    "    \n",
    "elif numb1>30:\n",
    "    print(\"numberX greater than 30\")\n",
    "\n",
    "else:\n",
    "    print(\"Done&Dusted!\")\n"
   ]
  },
  {
   "cell_type": "markdown",
   "id": "c8c98623-ef13-4b19-a794-bf01740a2197",
   "metadata": {},
   "source": [
    "# Python Functions"
   ]
  },
  {
   "cell_type": "code",
   "execution_count": 35,
   "id": "25cdf458-e413-4c0b-b4a7-8ed938383805",
   "metadata": {},
   "outputs": [
    {
     "name": "stdout",
     "output_type": "stream",
     "text": [
      "30\n",
      "hi, its python! sidraa\n",
      "7\n",
      "good morning sidra!!!\n",
      "good morning sidra!!!\n",
      "None\n"
     ]
    }
   ],
   "source": [
    "def avg(i,j):\n",
    "    return  i+j//2\n",
    "\n",
    "print(avg(20,20))\n",
    "\n",
    "\n",
    "def greet(name):\n",
    "    return (\"hi, its python! \" + name)\n",
    "\n",
    "print(greet(\"sidraa\"))\n",
    "\n",
    "def sum(x,y=2): #default parameter \n",
    "    return x+y\n",
    "\n",
    "print(sum(5))\n",
    "\n",
    "def morninggreet():\n",
    "    print(\"good morning sidra!!!\")\n",
    "\n",
    "morninggreet()\n",
    "\n",
    "z = morninggreet()\n",
    "print(z) #gives none coz we didnt return anything through morninggreet "
   ]
  },
  {
   "cell_type": "markdown",
   "id": "5b16845d-34fa-4dd5-9171-a7b25489eadf",
   "metadata": {},
   "source": [
    "# Match-Case"
   ]
  },
  {
   "cell_type": "code",
   "execution_count": 41,
   "id": "1acfb9b5-2e3c-4b2d-b1d2-297453c736f9",
   "metadata": {},
   "outputs": [
    {
     "name": "stdout",
     "output_type": "stream",
     "text": [
      "unknown status\n"
     ]
    }
   ],
   "source": [
    "code = 500\n",
    "\n",
    "def http_status(code):\n",
    "    match code:\n",
    "            case 200:\n",
    "                return \"ok\"\n",
    "                return \"no error\"\n",
    "\n",
    "            case 404:\n",
    "                return \"page not found :(\"\n",
    "\n",
    "            case 500:\n",
    "                return \"idk its a glitch T_T\"\n",
    "\n",
    "\n",
    "            case _:\n",
    "                return \"unknown status\"\n",
    "\n",
    "\n",
    "print(http_status(13346))\n"
   ]
  },
  {
   "cell_type": "markdown",
   "id": "ccceda31-abff-42cb-abf1-fde0dde4e8e0",
   "metadata": {},
   "source": [
    "# Python Loops"
   ]
  },
  {
   "cell_type": "code",
   "execution_count": 72,
   "id": "a42812f3-97e2-4aca-9f5c-4e1d51f542a4",
   "metadata": {},
   "outputs": [
    {
     "name": "stdout",
     "output_type": "stream",
     "text": [
      "apple\n",
      "orange\n",
      "kiwi\n",
      "cherries\n",
      "1\n",
      "2\n",
      "3\n",
      "4\n",
      "5\n",
      "0\n",
      "1\n",
      "2\n",
      "0\n",
      "1\n",
      "2\n",
      "capsicum\n",
      "carrots\n",
      "brocolli\n"
     ]
    }
   ],
   "source": [
    "#for loop\n",
    "\n",
    "fruits = [\"apple\", \"orange\", \"kiwi\", \"cherries\"]\n",
    "\n",
    "for fruit in fruits:\n",
    "    print(fruit)\n",
    "\n",
    "\n",
    "for i in range(1,6):\n",
    "    print(i)\n",
    "\n",
    "\n",
    "#while loop\n",
    "\n",
    "count = 0\n",
    "\n",
    "while (count<3):\n",
    "    print(count)\n",
    "    count+=1\n",
    "\n",
    "\n",
    "#loop controls ; break, continue & pass\n",
    "\n",
    "#break \n",
    "\n",
    "for i in range(5):\n",
    "    if i == 3:\n",
    "        break\n",
    "    print(i)\n",
    "\n",
    "#continue\n",
    "\n",
    "list = [\"capsicum\", \"carrots\", \"iceberg\", \"brocolli\"]\n",
    "\n",
    "for vegs in list:\n",
    "    if vegs == \"iceberg\":\n",
    "        continue\n",
    "    print(vegs)\n",
    "    \n",
    "\n"
   ]
  },
  {
   "cell_type": "markdown",
   "id": "9104bbf9-80ee-4f6e-8cea-30ba607dcb95",
   "metadata": {},
   "source": [
    "# Python Lists"
   ]
  },
  {
   "cell_type": "code",
   "execution_count": 179,
   "id": "caf5223f-2ddb-4bcf-add6-c3221b3e1ffc",
   "metadata": {},
   "outputs": [
    {
     "ename": "IndexError",
     "evalue": "list index out of range",
     "output_type": "error",
     "traceback": [
      "\u001b[1;31m---------------------------------------------------------------------------\u001b[0m",
      "\u001b[1;31mIndexError\u001b[0m                                Traceback (most recent call last)",
      "Cell \u001b[1;32mIn[179], line 3\u001b[0m\n\u001b[0;32m      1\u001b[0m mylist \u001b[38;5;241m=\u001b[39m [\u001b[38;5;241m23\u001b[39m\u001b[38;5;241m-\u001b[39m\u001b[38;5;241m56\u001b[39m\u001b[38;5;241m-\u001b[39m\u001b[38;5;241m89\u001b[39m\u001b[38;5;241m-\u001b[39m\u001b[38;5;241m45\u001b[39m]\n\u001b[1;32m----> 3\u001b[0m mylist[\u001b[38;5;241m1\u001b[39m]\n\u001b[0;32m      4\u001b[0m mylist[\u001b[38;5;241m3\u001b[39m]\n\u001b[0;32m      5\u001b[0m mylist[\u001b[38;5;241m2\u001b[39m] \u001b[38;5;241m=\u001b[39m \u001b[38;5;241m100\u001b[39m\n",
      "\u001b[1;31mIndexError\u001b[0m: list index out of range"
     ]
    }
   ],
   "source": [
    "mylist = [23-56-89-45]\n",
    "\n",
    "mylist[1]\n",
    "mylist[3]\n",
    "mylist[2] = 100\n",
    "\n",
    "mylist.append(250)\n",
    "print(mylist)\n",
    "\n",
    "mylist.insert(3- 650)\n",
    "print(mylist)\n",
    "\n",
    "mylist.pop(1)\n",
    "print(mylist)\n",
    "\n",
    "mylist.index(250)\n",
    "\n",
    "mylist.count(45)\n",
    "\n",
    "mylist.sort()\n",
    "print(mylist)\n",
    "\n",
    "l3 = [100- True- apple- [400- 300]]\n",
    "\n",
    "l3[3]\n",
    "\n",
    "l3[3][1]\n",
    "\n",
    "#list concatenation\n",
    "\n",
    "newl1 = [1-2-3]\n",
    "newl2 = [ 8-9-10]\n",
    "\n",
    "newl1 + newl2 \n",
    "\n",
    "#list membership\n",
    "\n",
    "if 2 in newl1:\n",
    "    print(yes)\n",
    "\n",
    "#spilting in lists\n",
    "\n",
    "names = \"sidraa-mama-python-datascience-codewithharry\"\n",
    "\n",
    "listofnames = names.split(\"-\")\n",
    "\n",
    "print(listofnames)\n"
   ]
  },
  {
   "cell_type": "markdown",
   "id": "05775e06-f1b2-42fe-b643-021be43bc371",
   "metadata": {},
   "source": [
    "# List Comprehensions"
   ]
  },
  {
   "cell_type": "code",
   "execution_count": 187,
   "id": "95e6e443-63a7-46c9-9529-c806815c6d01",
   "metadata": {},
   "outputs": [
    {
     "name": "stdout",
     "output_type": "stream",
     "text": [
      "2X1 = 2\n",
      "2X2 = 4\n",
      "2X3 = 6\n",
      "2X4 = 8\n",
      "2X5 = 10\n",
      "2X6 = 12\n",
      "2X7 = 14\n",
      "2X8 = 16\n",
      "2X9 = 18\n",
      "2X10 = 20\n",
      "[2, 4, 6, 8, 10, 12, 14, 16, 18, 20]\n",
      "[4, 8, 12, 16, 20]\n"
     ]
    }
   ],
   "source": [
    "table = []\n",
    "\n",
    "for i in range(1,11):\n",
    "    print(f\"2X{i} = {2*i}\")\n",
    "    table.append(2*i)\n",
    "\n",
    "print(table)\n",
    "\n",
    "t = [2*i for i in range(1,11) if i%2 == 0]\n",
    "print(t)"
   ]
  },
  {
   "cell_type": "markdown",
   "id": "5b1acc20-aea7-4a91-a6a0-5b9133b50faf",
   "metadata": {},
   "source": [
    "# Python Tuples"
   ]
  },
  {
   "cell_type": "code",
   "execution_count": 115,
   "id": "369e8594-ff1d-482c-8c93-d9ba88cf43d0",
   "metadata": {},
   "outputs": [
    {
     "name": "stdout",
     "output_type": "stream",
     "text": [
      "(1, 2, 3, 4, 5, 6, 7, 8, 9)\n"
     ]
    }
   ],
   "source": [
    "tup = (1,2,3,4,5,6,7,8,9)\n",
    "print(tup)"
   ]
  },
  {
   "cell_type": "code",
   "execution_count": 116,
   "id": "96408bdf-f4d3-43aa-a034-e4a845e2e87b",
   "metadata": {},
   "outputs": [
    {
     "name": "stdout",
     "output_type": "stream",
     "text": [
      "9\n"
     ]
    }
   ],
   "source": [
    "print(len(tup))"
   ]
  },
  {
   "cell_type": "code",
   "execution_count": 117,
   "id": "7f5bb616-21c1-462d-88d9-e7c866564f17",
   "metadata": {},
   "outputs": [
    {
     "data": {
      "text/plain": [
       "4"
      ]
     },
     "execution_count": 117,
     "metadata": {},
     "output_type": "execute_result"
    }
   ],
   "source": [
    "tup[3]"
   ]
  },
  {
   "cell_type": "code",
   "execution_count": 126,
   "id": "095f715e-c767-4857-9669-5401be688b3d",
   "metadata": {},
   "outputs": [
    {
     "name": "stdout",
     "output_type": "stream",
     "text": [
      "sidraa\n",
      "24\n",
      "data scientist\n",
      "amsterdam\n"
     ]
    }
   ],
   "source": [
    "#packing and unpacking in tuple\n",
    "\n",
    "human = (\"sidraa\", 24, \"data scientist\", \"amsterdam\") #packing tuple\n",
    "\n",
    "name2, age, language, city = human #unpacking tuple #assign it to the tuple we made\n",
    "\n",
    "print(name2)\n",
    "print(age)\n",
    "print(language)\n",
    "print(city)\n"
   ]
  },
  {
   "cell_type": "markdown",
   "id": "500591ce-874b-4ce5-b338-0991284c78b0",
   "metadata": {},
   "source": [
    "# Python Sets"
   ]
  },
  {
   "cell_type": "code",
   "execution_count": 131,
   "id": "cd737dd0-3451-4686-bdcc-e3b9724922fb",
   "metadata": {},
   "outputs": [
    {
     "name": "stdout",
     "output_type": "stream",
     "text": [
      "{2, 3, 100, 4, 66, 78}\n",
      "{2, 3, 100, 4, 66, 43, 78}\n",
      "{2, 3, 100, 4, 66, 43, 28, 78}\n"
     ]
    }
   ],
   "source": [
    "set = {4,3,2,66,78,100}\n",
    "\n",
    "print(set)\n",
    "\n",
    "set.add(43)\n",
    "print(set)\n",
    "\n",
    "set.update([4,78,28])\n",
    "print(set)"
   ]
  },
  {
   "cell_type": "code",
   "execution_count": 142,
   "id": "a1cc6389-69ab-4584-8652-dd5962e934eb",
   "metadata": {},
   "outputs": [
    {
     "name": "stdout",
     "output_type": "stream",
     "text": [
      "False\n"
     ]
    }
   ],
   "source": [
    "set1 = {1,2,3}\n",
    "set2 = {4,5,6}\n",
    "\n",
    "newset = set1.union(set2)\n",
    "print(newset)\n",
    "\n",
    "\n",
    "set1 = {1,2,3}\n",
    "set2 = {2,3}\n",
    "\n",
    "newset2 = set1.intersection(set2)\n",
    "print(newset2)\n",
    "\n",
    "set1 = {1,2,3}\n",
    "set2 = {4,5,6}\n",
    "\n",
    "newset2 = set1.difference(set2) #gives only set1\n",
    "print(newset2)\n",
    "\n",
    "\n",
    "set1 = {1,2,3}\n",
    "set2 = {4,5,6}\n",
    "\n",
    "newset2 = set1.symmetric_difference(set2) #gives only set1\n",
    "print(newset2)\n",
    "\n",
    "\n",
    "set1 = {1,2,3}\n",
    "set2 = {4,5,6}\n",
    "\n",
    "newset2 = set1.issubset(set2) #gives only set1\n",
    "print(newset2)\n",
    "\n",
    "\n",
    "set1 = {1,2,3}\n",
    "set2 = {4,5,6}\n",
    "\n",
    "newset2 = set1.issubset(set2) #gives only set1\n",
    "print(newset2)"
   ]
  },
  {
   "cell_type": "markdown",
   "id": "a2b3d86e-c41e-4aa0-b492-f32a1304f3ad",
   "metadata": {},
   "source": [
    "# Python Dictionaries"
   ]
  },
  {
   "cell_type": "code",
   "execution_count": 159,
   "id": "f105810b-fb92-47ed-84d7-006f97511630",
   "metadata": {},
   "outputs": [
    {
     "name": "stdout",
     "output_type": "stream",
     "text": [
      "dict_keys(['name3', 'study'])\n",
      "dict_values(['sid', 'pyhton and data science'])\n",
      "dict_items([('name3', 'sid'), ('study', 'pyhton and data science')])\n"
     ]
    }
   ],
   "source": [
    "student = {\n",
    "    \"name3\" : \"sid\",\n",
    "    \"study\" : \"datascience\"\n",
    "}\n",
    "\n",
    "print(student[\"name3\"])\n",
    "print(student.get(\"name3\"))\n",
    "print(student.get(\"name5\"))\n",
    "\n",
    "student[\"study\"] = \"python and data science\"\n",
    "print(student)\n",
    "\n",
    "studentkeys = student.keys()\n",
    "print(studentkeys)\n",
    "\n",
    "print(student.values())\n",
    "\n",
    "print(student.items())"
   ]
  },
  {
   "cell_type": "markdown",
   "id": "e447039e-c9ee-4326-b690-ec3dd1c347bf",
   "metadata": {},
   "source": [
    "# JSON Module\n",
    "\n",
    "## JSON( JavaScript Object Notation) is a lightweight data format used for data exchange between servers and applications. It is widely used in APIs, web applications, and configurations."
   ]
  },
  {
   "cell_type": "code",
   "execution_count": 162,
   "id": "b2baf09c-d3b4-43ed-a643-9cdeb0dc211c",
   "metadata": {},
   "outputs": [
    {
     "name": "stdout",
     "output_type": "stream",
     "text": [
      "<class 'str'>\n",
      "<class 'dict'>\n"
     ]
    }
   ],
   "source": [
    "import json \n",
    "\n",
    "obj = {\"name4\" : \"siddie\", \"studie\" : \"data science\"}\n",
    "jsonstring = json.dumps(obj) #dump as a string #dumps converts a python obj into a json string\n",
    "print(type(jsonstring))\n",
    "\n",
    "d = json.loads(jsonstring) #loads will convert a json string into python obj \n",
    "print(type(d))"
   ]
  },
  {
   "cell_type": "markdown",
   "id": "289c4583-8673-418c-9c53-b3b523984eec",
   "metadata": {},
   "source": [
    "# Python Object Oriented Programming"
   ]
  },
  {
   "cell_type": "code",
   "execution_count": 175,
   "id": "87e5a26f-3235-4a5c-8aff-785c370640c4",
   "metadata": {},
   "outputs": [
    {
     "name": "stdout",
     "output_type": "stream",
     "text": [
      "the company of sidraaaaa is HP with $56000\n"
     ]
    }
   ],
   "source": [
    "class Employee:\n",
    "    company = \"HP\"\n",
    "    def __init__(self,name, salary):\n",
    "        self.name = name\n",
    "        self.salary = salary\n",
    "    def printDetails(self):\n",
    "        print(f\"the company of {self.name} is {self.company} with {self.salary}\")\n",
    "\n",
    "e = Employee(\"sidraaaaa\", \"$56000\")\n",
    "e.printDetails()"
   ]
  },
  {
   "cell_type": "code",
   "execution_count": 178,
   "id": "c901b5eb-8413-4ae2-848b-a0802084ad6d",
   "metadata": {},
   "outputs": [
    {
     "name": "stdout",
     "output_type": "stream",
     "text": [
      "the company of sidraaaaa is HP with $56000\n",
      "the time is now\n",
      "the company is HP\n"
     ]
    }
   ],
   "source": [
    "class Employee:\n",
    "    company = \"HP\"\n",
    "    def __init__(self,name, salary):\n",
    "        self.name = name\n",
    "        self.salary = salary\n",
    "    def printDetails(self):\n",
    "        print(f\"the company of {self.name} is {self.company} with {self.salary}\")\n",
    "    @staticmethod #coz we dont need to use any objects, self\n",
    "    def printTime():\n",
    "        print(f\"the time is now\")\n",
    "    @classmethod #checks if there is an obj called class, if not then then it will use the above class\n",
    "    def printClassDetails(cls):\n",
    "        print(f\"the company is {cls.company}\")\n",
    "\n",
    "e = Employee(\"sidraaaaa\", \"$56000\")\n",
    "e.printDetails()\n",
    "e.printTime()\n",
    "e.printClassDetails()"
   ]
  },
  {
   "cell_type": "markdown",
   "id": "ee61b368-3685-4343-a727-4f37fa998f56",
   "metadata": {},
   "source": [
    "# Lambda Functions \n",
    "## they are useful to creat short and neat arithmetic operations "
   ]
  },
  {
   "cell_type": "code",
   "execution_count": 197,
   "id": "23b0522d-dc9f-4127-a340-2e64d29fbc66",
   "metadata": {},
   "outputs": [
    {
     "name": "stdout",
     "output_type": "stream",
     "text": [
      "27\n",
      "125\n",
      "49\n",
      "4096\n",
      "10\n"
     ]
    }
   ],
   "source": [
    "cube = lambda x: x*x*x\n",
    "print(cube(3))\n",
    "\n",
    "print(cube(5))\n",
    "\n",
    "square = lambda x: x*x\n",
    "print(square(7))\n",
    "\n",
    "square = lambda x: x*x\n",
    "print(square(64))\n",
    "\n",
    "sum = lambda b,d: b + d\n",
    "print(sum(5,5))"
   ]
  },
  {
   "cell_type": "code",
   "execution_count": null,
   "id": "5acf0358-04c2-4653-bfdb-88256689dc23",
   "metadata": {},
   "outputs": [],
   "source": []
  }
 ],
 "metadata": {
  "kernelspec": {
   "display_name": "Python [conda env:base] *",
   "language": "python",
   "name": "conda-base-py"
  },
  "language_info": {
   "codemirror_mode": {
    "name": "ipython",
    "version": 3
   },
   "file_extension": ".py",
   "mimetype": "text/x-python",
   "name": "python",
   "nbconvert_exporter": "python",
   "pygments_lexer": "ipython3",
   "version": "3.13.5"
  }
 },
 "nbformat": 4,
 "nbformat_minor": 5
}
