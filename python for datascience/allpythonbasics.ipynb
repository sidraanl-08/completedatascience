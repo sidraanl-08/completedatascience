{
 "cells": [
  {
   "cell_type": "markdown",
   "id": "c8c15ae3-a56b-40ed-9705-d70f45e76fdf",
   "metadata": {},
   "source": [
    "# 1. Python Variables, DataTypes, TypeCasting"
   ]
  },
  {
   "cell_type": "code",
   "execution_count": 31,
   "id": "23ce75d7-24a7-4de9-8f92-1abb2ecf74c0",
   "metadata": {},
   "outputs": [
    {
     "name": "stdout",
     "output_type": "stream",
     "text": [
      "<class 'float'>\n",
      "<class 'float'>\n",
      "<class 'str'>\n",
      "4732\n",
      "7\n",
      "python programmer and data scientist\n"
     ]
    },
    {
     "data": {
      "text/plain": [
       "'sidraa'"
      ]
     },
     "execution_count": 31,
     "metadata": {},
     "output_type": "execute_result"
    }
   ],
   "source": [
    "#numbers\n",
    "\n",
    "a = 5\n",
    "b = 10.98\n",
    "\n",
    "print(type(a+b))\n",
    "print(type(b))\n",
    "\n",
    "#strings\n",
    "\n",
    "str1 = \"sidraa\"\n",
    "\n",
    "print(type(str1))\n",
    "type(str1)\n",
    "\n",
    "\n",
    "#type casting\n",
    "\n",
    "d = \"1234\"\n",
    "e = \"3498\"\n",
    "sum = int(d) + int(e)\n",
    "print(sum)\n",
    "\n",
    "#strings and strings functions\n",
    "\n",
    "name = \"sidraaa\"\n",
    "name.upper()\n",
    "\n",
    "name.lower()\n",
    "\n",
    "name.endswith(\"aaa\")\n",
    "\n",
    "name.startswith(\"sid\")\n",
    "\n",
    "name.count(\"a\")\n",
    "\n",
    "name.index(\"d\")\n",
    "\n",
    "print(len(\"sidraaa\"))\n",
    "\n",
    "print(name.replace(\"sidraaa\", \"python programmer and data scientist\"))\n",
    "\n",
    "name[0:3]\n",
    "name[-7:-1]"
   ]
  },
  {
   "cell_type": "markdown",
   "id": "7f01baa8-3691-498a-bb3c-694402777d1d",
   "metadata": {},
   "source": [
    "# 2. Python Operators"
   ]
  },
  {
   "cell_type": "code",
   "execution_count": 78,
   "id": "50622dd2-73f5-4c46-b108-5db5977b8849",
   "metadata": {},
   "outputs": [
    {
     "name": "stdout",
     "output_type": "stream",
     "text": [
      "33.0\n"
     ]
    }
   ],
   "source": [
    "# #arithmetic operators\n",
    "\n",
    "# a = 10\n",
    "# b = 50\n",
    "\n",
    "# a+b\n",
    "# a-b\n",
    "# a*b\n",
    "# a/b\n",
    "# a//b\n",
    "# a%b\n",
    "# a**2\n",
    "\n",
    "# #comparison operators (True, False)\n",
    "\n",
    "# a>b\n",
    "# b>a\n",
    "# a==b\n",
    "# a!=b\n",
    "# a<=b\n",
    "# b>=a\n",
    "\n",
    "# #logical operators (True, False)\n",
    "\n",
    "# c1 = True\n",
    "# c2 = False\n",
    "\n",
    "# d1 = True \n",
    "# d2 = True\n",
    "\n",
    "# d1 and d2\n",
    "# d1 or d2\n",
    "\n",
    "# c1 and c2\n",
    "# c1 or c2\n",
    "# not (c1)\n",
    "# not(c2)\n",
    "\n",
    "# #assignment operators \n",
    "\n",
    "# f = 50\n",
    "# g = 70\n",
    "\n",
    "# f+=40\n",
    "# print(f)\n",
    "\n",
    "\n",
    "# g-=20\n",
    "# print(g)\n",
    "\n",
    "\n",
    "# f*=2\n",
    "# print(f)\n",
    "\n",
    "# g/=10\n",
    "# print(g)\n",
    "\n",
    "# g//=10\n",
    "# print(g) #floor removes decimal\n",
    "\n",
    "\n",
    "# f %=30\n",
    "# print(f)\n",
    "\n",
    "# f**=2\n",
    "# print(f)\n",
    "\n",
    "# #operator precedence\n",
    "# #python follows PEMDAS order of operations \n",
    "\n",
    "# equation = 2*3-8\n",
    "# print(equation)\n",
    "\n",
    "equa2 = (45/5+24)\n",
    "print(equa2)"
   ]
  },
  {
   "cell_type": "markdown",
   "id": "f7b2330e-3f8a-4d6b-8c0a-99bffd1b2a14",
   "metadata": {},
   "source": [
    "# 3. Input In Python"
   ]
  },
  {
   "cell_type": "code",
   "execution_count": 75,
   "id": "4c984c93-7b4c-4eae-8a9c-eb9a48c2203c",
   "metadata": {},
   "outputs": [
    {
     "name": "stdin",
     "output_type": "stream",
     "text": [
      "give number for c 23\n",
      "give number for d 56\n"
     ]
    }
   ],
   "source": [
    "#asking for a number from user \n",
    "\n",
    "# a = input(\"enter value of a\")\n",
    "# b = input(\"enter value of b\")\n",
    "\n",
    "c = int(input(\"give number for c\"))\n",
    "d = int(input(\"give number for d\"))"
   ]
  },
  {
   "cell_type": "code",
   "execution_count": 76,
   "id": "5b63b146-8b20-46e0-89e3-76adb320b58c",
   "metadata": {},
   "outputs": [
    {
     "name": "stdout",
     "output_type": "stream",
     "text": [
      "79\n"
     ]
    }
   ],
   "source": [
    "# print(a,b)\n",
    "\n",
    "# print(a+b) #every input gives strings therefore they will be concatenated\n",
    "\n",
    "print(c+d) #now it has converted string numbs into integers "
   ]
  },
  {
   "cell_type": "code",
   "execution_count": null,
   "id": "acd64abf-3edb-466c-88d0-a1e1f475a680",
   "metadata": {},
   "outputs": [],
   "source": []
  }
 ],
 "metadata": {
  "kernelspec": {
   "display_name": "Python [conda env:base] *",
   "language": "python",
   "name": "conda-base-py"
  },
  "language_info": {
   "codemirror_mode": {
    "name": "ipython",
    "version": 3
   },
   "file_extension": ".py",
   "mimetype": "text/x-python",
   "name": "python",
   "nbconvert_exporter": "python",
   "pygments_lexer": "ipython3",
   "version": "3.13.5"
  }
 },
 "nbformat": 4,
 "nbformat_minor": 5
}
